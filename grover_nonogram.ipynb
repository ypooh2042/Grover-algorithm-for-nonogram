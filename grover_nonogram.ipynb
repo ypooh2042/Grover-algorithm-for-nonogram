{
 "cells": [
  {
   "cell_type": "markdown",
   "id": "4804670a",
   "metadata": {},
   "source": [
    "## What is nonogram?"
   ]
  },
  {
   "cell_type": "markdown",
   "id": "b421717a",
   "metadata": {},
   "source": [
    "Nonograms, also known as Hanjie, Paint by Numbers, Picross, Griddlers, and Pic-a-Pix are picture logic puzzles in which cells in a grid must be colored or left blank according to numbers at the edges of the grid to reveal a hidden picture. In this puzzle, the numbers are a form of discrete tomography that measures how many unbroken lines of filled-in squares there are in any given row or column. For example, a clue of \"4 8 3\" would mean there are sets of four, eight, and three filled squares, in that order, with at least one blank square between successive sets.\n",
    "\n",
    "These puzzles are often black and white—describing a binary image—but they can also be colored. If colored, the number clues are also colored to indicate the color of the squares. Two differently colored numbers may or may not have a space in between them. For example, a black four followed by a red two could mean four black boxes, some empty spaces, and two red boxes, or it could simply mean four black boxes followed immediately by two red ones. Nonograms have no theoretical limits on size, and are not restricted to square layouts.\n",
    "\n",
    "Nonograms were named after Non Ishida, one of the two inventors of the puzzle.\n",
    "\n",
    "- Example image\n",
    "\n",
    "![example.png](nonogram_example.png)\n",
    "\n",
    "Solving nonogram puzzles is an NP-complete problem. This means that there is no polynomial time algorithm that solves all nonogram puzzles unless P = NP.\n",
    "\n",
    "\\- Source: Wikipedia\n",
    "\n",
    "\n",
    "### But if we use quantum computers, we can always solve any nonogram in polynomial time."
   ]
  },
  {
   "cell_type": "markdown",
   "id": "63055d08",
   "metadata": {},
   "source": [
    "## Qiskit Installation and library Import"
   ]
  },
  {
   "cell_type": "code",
   "execution_count": null,
   "id": "0142b489",
   "metadata": {},
   "outputs": [],
   "source": [
    "%pip install qiskit\n",
    "%pip install qiskit_aer\n",
    "%pip install pylatexenc"
   ]
  },
  {
   "cell_type": "code",
   "execution_count": 5,
   "id": "a2e7bbae-5faf-49de-acbb-5502d37170e9",
   "metadata": {
    "tags": []
   },
   "outputs": [],
   "source": [
    "# Importing standard Qiskit libraries\n",
    "from qiskit import QuantumCircuit, QuantumRegister, ClassicalRegister\n",
    "from qiskit.visualization import *\n",
    "\n",
    "# Importing Numpy\n",
    "import numpy as np\n",
    "\n",
    "# Quantum simulator\n",
    "from qiskit_aer import Aer\n",
    "from qiskit.circuit.library import MCXGate"
   ]
  },
  {
   "cell_type": "markdown",
   "id": "21182f58",
   "metadata": {},
   "source": [
    "### 1. Nonogram row/column check algorithm"
   ]
  },
  {
   "cell_type": "markdown",
   "id": "683280d1",
   "metadata": {},
   "source": [
    "Let's encode the black square to 1 and the white squre to 0. Then we can encode any nonogram pattern to binary image.\n",
    "\n",
    "- Example <br><br>\n",
    "![example_2.png](nonogram_example_2.png)\n",
    "<br> 0 0 0 0 0 0 0 0 <br> 0 1 1 1 1 0 0 0 <br> 0 1 1 1 1 1 1 0 <br> 0 1 1 0 0 1 1 0 <br> 0 1 1 0 0 1 1 0 <br> 0 1 1 1 1 1 1 0 <br> 0 1 1 1 1 0 0 0 <br> 0 1 1 0 0 0 0 0 <br> 0 1 1 0 0 0 0 0 <br> 0 1 1 0 0 0 0 0 <br> 0 0 0 0 0 0 0 0\n",
    "\n",
    "Because the number of nxm nonogram patterns is 2^(nxm), classical computer cannot solve the nonogram problem in polynomial time. But quantum computer can input the superposed state, we can encode all nxm nonogram in (nxm) qubits."
   ]
  },
  {
   "cell_type": "code",
   "execution_count": 11,
   "id": "ebe517f9",
   "metadata": {},
   "outputs": [
    {
     "data": {
      "image/png": "[encoded data removed]",
      "text/plain": [
       "<Figure size 193.866x451.5 with 1 Axes>"
      ]
     },
     "execution_count": 11,
     "metadata": {},
     "output_type": "execute_result"
    }
   ],
   "source": [
    "qr = QuantumRegister(5, name='j')\n",
    "qc_test = QuantumCircuit(qr)\n",
    "qc_test.append(MCXGate(3, ctrl_state=\"010\"), [1, 2, 0, 4])\n",
    "\n",
    "qc_test.draw(output=\"mpl\", reverse_bits=True)"
   ]
  }
 ],
 "metadata": {
  "kernelspec": {
   "display_name": "Python 3.10.6 ('.venv': venv)",
   "language": "python",
   "name": "python3"
  },
  "language_info": {
   "codemirror_mode": {
    "name": "ipython",
    "version": 3
   },
   "file_extension": ".py",
   "mimetype": "text/x-python",
   "name": "python",
   "nbconvert_exporter": "python",
   "pygments_lexer": "ipython3",
   "version": "3.9.4"
  },
  "vscode": {
   "interpreter": {
    "hash": "cd838ed429365021571362c51f8a905fc213e25cce9f375e941ccfab53a3a26c"
   }
  },
  "widgets": {
   "application/vnd.jupyter.widget-state+json": {
    "state": {
     "04c95b96804e4b95969101288e5e012a": {
      "model_module": "@jupyter-widgets/base",
      "model_module_version": "2.0.0",
      "model_name": "LayoutModel",
      "state": {
       "width": "190px"
      }
     },
     "1726d6f4648d4f9cb053851db206c052": {
      "model_module": "@jupyter-widgets/controls",
      "model_module_version": "2.0.0",
      "model_name": "ButtonModel",
      "state": {
       "button_style": "primary",
       "description": "Clear",
       "layout": "IPY_MODEL_24c609004ec64665bfca0f1243479b8b",
       "style": "IPY_MODEL_8697efda32bc4cbd846f7d31358410ab",
       "tooltip": null
      }
     },
     "24c609004ec64665bfca0f1243479b8b": {
      "model_module": "@jupyter-widgets/base",
      "model_module_version": "2.0.0",
      "model_name": "LayoutModel",
      "state": {
       "grid_area": "right",
       "padding": "0px 0px 0px 0px",
       "width": "70px"
      }
     },
     "2bc46051ad9643c6b4d308fb3db7bdd0": {
      "model_module": "@jupyter-widgets/controls",
      "model_module_version": "2.0.0",
      "model_name": "HTMLModel",
      "state": {
       "layout": "IPY_MODEL_c24fb658ce994c49863b5160a7ecbcf6",
       "style": "IPY_MODEL_4945fcaa697c441ab547bbd4eed206f1",
       "value": "<p style='font-family: IBM Plex Sans, Arial, Helvetica, sans-serif; font-size: 20px; font-weight: medium;'>Circuit Properties</p>"
      }
     },
     "3d8071006fe34a108940795cb0ebb88e": {
      "model_module": "@jupyter-widgets/controls",
      "model_module_version": "2.0.0",
      "model_name": "HBoxModel",
      "state": {
       "children": [
        "IPY_MODEL_f1439b9802e64210916358bf8537c884",
        "IPY_MODEL_7696c1317a3f427087bf02ec165dd0c4",
        "IPY_MODEL_c470693ffb5b447f9cc87c0c93f74464",
        "IPY_MODEL_9839f913909643bdb06d7c6126579c70",
        "IPY_MODEL_fee51ed7316142e185917095ce224faf"
       ],
       "layout": "IPY_MODEL_91795bf0656c4d879039ab80073cc684"
      }
     },
     "4945fcaa697c441ab547bbd4eed206f1": {
      "model_module": "@jupyter-widgets/controls",
      "model_module_version": "2.0.0",
      "model_name": "HTMLStyleModel",
      "state": {
       "description_width": "",
       "font_size": null,
       "text_color": null
      }
     },
     "701613d0249d4e3391ba54e35373e2d5": {
      "model_module": "@jupyter-widgets/controls",
      "model_module_version": "2.0.0",
      "model_name": "HTMLStyleModel",
      "state": {
       "description_width": "",
       "font_size": null,
       "text_color": null
      }
     },
     "752e6a115e65465da529e74e53a67ed1": {
      "model_module": "@jupyter-widgets/base",
      "model_module_version": "2.0.0",
      "model_name": "LayoutModel",
      "state": {
       "width": "145px"
      }
     },
     "7696c1317a3f427087bf02ec165dd0c4": {
      "model_module": "@jupyter-widgets/controls",
      "model_module_version": "2.0.0",
      "model_name": "HTMLModel",
      "state": {
       "layout": "IPY_MODEL_752e6a115e65465da529e74e53a67ed1",
       "style": "IPY_MODEL_8628ca95d2574e9eb2d2b5cfc9733ecd",
       "value": "<h5>Backend</h5>"
      }
     },
     "8628ca95d2574e9eb2d2b5cfc9733ecd": {
      "model_module": "@jupyter-widgets/controls",
      "model_module_version": "2.0.0",
      "model_name": "HTMLStyleModel",
      "state": {
       "description_width": "",
       "font_size": null,
       "text_color": null
      }
     },
     "8697efda32bc4cbd846f7d31358410ab": {
      "model_module": "@jupyter-widgets/controls",
      "model_module_version": "2.0.0",
      "model_name": "ButtonStyleModel",
      "state": {
       "font_family": null,
       "font_size": null,
       "font_style": null,
       "font_variant": null,
       "font_weight": null,
       "text_color": null,
       "text_decoration": null
      }
     },
     "91795bf0656c4d879039ab80073cc684": {
      "model_module": "@jupyter-widgets/base",
      "model_module_version": "2.0.0",
      "model_name": "LayoutModel",
      "state": {
       "margin": "0px 0px 0px 37px",
       "width": "600px"
      }
     },
     "9839f913909643bdb06d7c6126579c70": {
      "model_module": "@jupyter-widgets/controls",
      "model_module_version": "2.0.0",
      "model_name": "HTMLModel",
      "state": {
       "layout": "IPY_MODEL_e99dc6056e3d41e1bcf69bd638b05360",
       "style": "IPY_MODEL_ed2c0d62804c41b2bdfb68bf0c71d502",
       "value": "<h5>Queue</h5>"
      }
     },
     "a4f299f7106448b2a7d9b1edbbf5fd92": {
      "model_module": "@jupyter-widgets/base",
      "model_module_version": "2.0.0",
      "model_name": "LayoutModel",
      "state": {
       "width": "95px"
      }
     },
     "a67998a884a744309ae062d8c38f53d9": {
      "model_module": "@jupyter-widgets/controls",
      "model_module_version": "2.0.0",
      "model_name": "HTMLStyleModel",
      "state": {
       "description_width": "",
       "font_size": null,
       "text_color": null
      }
     },
     "c24fb658ce994c49863b5160a7ecbcf6": {
      "model_module": "@jupyter-widgets/base",
      "model_module_version": "2.0.0",
      "model_name": "LayoutModel",
      "state": {
       "margin": "0px 0px 10px 0px"
      }
     },
     "c470693ffb5b447f9cc87c0c93f74464": {
      "model_module": "@jupyter-widgets/controls",
      "model_module_version": "2.0.0",
      "model_name": "HTMLModel",
      "state": {
       "layout": "IPY_MODEL_a4f299f7106448b2a7d9b1edbbf5fd92",
       "style": "IPY_MODEL_f56fd2d0a9114ed896f29284e5a91c45",
       "value": "<h5>Status</h5>"
      }
     },
     "e99dc6056e3d41e1bcf69bd638b05360": {
      "model_module": "@jupyter-widgets/base",
      "model_module_version": "2.0.0",
      "model_name": "LayoutModel",
      "state": {
       "width": "70px"
      }
     },
     "ed2c0d62804c41b2bdfb68bf0c71d502": {
      "model_module": "@jupyter-widgets/controls",
      "model_module_version": "2.0.0",
      "model_name": "HTMLStyleModel",
      "state": {
       "description_width": "",
       "font_size": null,
       "text_color": null
      }
     },
     "f1439b9802e64210916358bf8537c884": {
      "model_module": "@jupyter-widgets/controls",
      "model_module_version": "2.0.0",
      "model_name": "HTMLModel",
      "state": {
       "layout": "IPY_MODEL_04c95b96804e4b95969101288e5e012a",
       "style": "IPY_MODEL_a67998a884a744309ae062d8c38f53d9",
       "value": "<h5>Job ID</h5>"
      }
     },
     "f19ccb5faa994a91a34c6add2ea318a3": {
      "model_module": "@jupyter-widgets/base",
      "model_module_version": "2.0.0",
      "model_name": "LayoutModel",
      "state": {}
     },
     "f56fd2d0a9114ed896f29284e5a91c45": {
      "model_module": "@jupyter-widgets/controls",
      "model_module_version": "2.0.0",
      "model_name": "HTMLStyleModel",
      "state": {
       "description_width": "",
       "font_size": null,
       "text_color": null
      }
     },
     "f8e964eb55e34832878177ceff0ebb37": {
      "model_module": "@jupyter-widgets/base",
      "model_module_version": "2.0.0",
      "model_name": "LayoutModel",
      "state": {
       "grid_template_areas": "\n                                       \". . . . right \"\n                                        ",
       "grid_template_columns": "20% 20% 20% 20% 20%",
       "width": "100%"
      }
     },
     "fe06a9887a02434eaeb0fa669b0f8fe2": {
      "model_module": "@jupyter-widgets/controls",
      "model_module_version": "2.0.0",
      "model_name": "GridBoxModel",
      "state": {
       "children": [
        "IPY_MODEL_1726d6f4648d4f9cb053851db206c052"
       ],
       "layout": "IPY_MODEL_f8e964eb55e34832878177ceff0ebb37"
      }
     },
     "fee51ed7316142e185917095ce224faf": {
      "model_module": "@jupyter-widgets/controls",
      "model_module_version": "2.0.0",
      "model_name": "HTMLModel",
      "state": {
       "layout": "IPY_MODEL_f19ccb5faa994a91a34c6add2ea318a3",
       "style": "IPY_MODEL_701613d0249d4e3391ba54e35373e2d5",
       "value": "<h5>Message</h5>"
      }
     }
    },
    "version_major": 2,
    "version_minor": 0
   }
  }
 },
 "nbformat": 4,
 "nbformat_minor": 5
}
